{
 "cells": [
  {
   "cell_type": "code",
   "execution_count": null,
   "metadata": {},
   "outputs": [],
   "source": [
    "import pandas as pd\n",
    "from pathlib import Path\n",
    "# import sqlite3"
   ]
  },
  {
   "cell_type": "code",
   "execution_count": null,
   "metadata": {},
   "outputs": [],
   "source": [
    "course_fp = Path(\"./../sample_seed/course.csv\")\n",
    "teaches_fp = Path(\"./../sample_seed/teaches.csv\")\n",
    "instructor_fp = Path(\"./../sample_seed/instructor.csv\")\n",
    "learning_outcomes_fp = Path(\"./../sample_seed/learning_outcome.csv\")"
   ]
  },
  {
   "cell_type": "code",
   "execution_count": null,
   "metadata": {},
   "outputs": [],
   "source": [
    "course_df = pd.read_csv(course_fp)\n",
    "teaches_df = pd.read_csv(teaches_fp)\n",
    "instructor_df = pd.read_csv(instructor_fp)\n",
    "learning_outcomes_df = pd.read_csv(learning_outcomes_fp)"
   ]
  },
  {
   "cell_type": "code",
   "execution_count": null,
   "metadata": {},
   "outputs": [],
   "source": [
    "course_df.head()"
   ]
  },
  {
   "cell_type": "code",
   "execution_count": null,
   "metadata": {},
   "outputs": [],
   "source": [
    "teaches_df.head()"
   ]
  },
  {
   "cell_type": "code",
   "execution_count": null,
   "metadata": {},
   "outputs": [],
   "source": [
    "instructor_df.head()"
   ]
  },
  {
   "cell_type": "code",
   "execution_count": null,
   "metadata": {},
   "outputs": [],
   "source": [
    "learning_outcomes_df.head()"
   ]
  },
  {
   "cell_type": "code",
   "execution_count": 1,
   "metadata": {},
   "outputs": [],
   "source": [
    "# database_name = './../data/db_design.db'\n",
    "\n",
    "# with sqlite3.connect(database_name) as conn:\n",
    "#     course_df.to_sql('courses', conn, index=False, if_exists='replace')\n",
    "\n",
    "# with sqlite3.connect(database_name) as conn:\n",
    "#     teaches_df.to_sql('teaches', conn, index=False, if_exists='replace')\n",
    "\n",
    "# with sqlite3.connect(database_name) as conn:\n",
    "#     instructor_df.to_sql('instructor', conn, index=False, if_exists='replace')\n",
    "\n",
    "# with sqlite3.connect(database_name) as conn:\n",
    "#     learning_outcomes_df.to_sql('learning_outcomes', conn, index=False, if_exists='replace')\n"
   ]
  },
  {
   "cell_type": "code",
   "execution_count": null,
   "metadata": {},
   "outputs": [],
   "source": []
  }
 ],
 "metadata": {
  "kernelspec": {
   "display_name": "base",
   "language": "python",
   "name": "python3"
  },
  "language_info": {
   "codemirror_mode": {
    "name": "ipython",
    "version": 3
   },
   "file_extension": ".py",
   "mimetype": "text/x-python",
   "name": "python",
   "nbconvert_exporter": "python",
   "pygments_lexer": "ipython3",
   "version": "3.11.5"
  }
 },
 "nbformat": 4,
 "nbformat_minor": 2
}
