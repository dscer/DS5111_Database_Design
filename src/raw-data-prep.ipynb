{
 "cells": [
  {
   "cell_type": "code",
   "execution_count": 2,
   "metadata": {},
   "outputs": [],
   "source": [
    "import os\n",
    "import pandas as pd\n",
    "from pathlib import Path"
   ]
  },
  {
   "cell_type": "code",
   "execution_count": 3,
   "metadata": {},
   "outputs": [],
   "source": [
    "courses = [\n",
    "    \"5001\", \n",
    "    \"5012\", \n",
    "    \"5100\", \n",
    "    \"5110\", \n",
    "    \"6001\", \n",
    "    \"6002\", \n",
    "    \"6003\", \n",
    "    \"6011\",\n",
    "    \"6012\",\n",
    "    \"6013\",\n",
    "    \"6021\",\n",
    "    \"6030\",\n",
    "    \"6040\",\n",
    "    \"6050\",\n",
    "    \"biz_analytics\"\n",
    "]"
   ]
  },
  {
   "cell_type": "code",
   "execution_count": 15,
   "metadata": {},
   "outputs": [],
   "source": [
    "dataframes = []\n",
    "for course in courses:\n",
    "    fp = Path(f\"./../data/{course}_objectives.csv\")\n",
    "    df = pd.read_csv(fp)\n",
    "    dataframes.append(df)"
   ]
  },
  {
   "cell_type": "code",
   "execution_count": 16,
   "metadata": {},
   "outputs": [],
   "source": [
    "df = pd.concat(dataframes)\n",
    "df.to_csv(Path(\"./../data/learning_outcomes.csv\"), index=False)"
   ]
  }
 ],
 "metadata": {
  "kernelspec": {
   "display_name": "Python 3",
   "language": "python",
   "name": "python3"
  },
  "language_info": {
   "codemirror_mode": {
    "name": "ipython",
    "version": 3
   },
   "file_extension": ".py",
   "mimetype": "text/x-python",
   "name": "python",
   "nbconvert_exporter": "python",
   "pygments_lexer": "ipython3",
   "version": "3.11.5"
  }
 },
 "nbformat": 4,
 "nbformat_minor": 2
}
